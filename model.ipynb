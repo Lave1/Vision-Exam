{
 "cells": [
  {
   "cell_type": "code",
   "execution_count": 50,
   "metadata": {},
   "outputs": [],
   "source": [
    "import tensorflow as tf\n",
    "from tensorflow.keras import layers, models\n",
    "from tensorflow.keras.preprocessing.image import ImageDataGenerator\n",
    "from sklearn.metrics import confusion_matrix, classification_report\n",
    "import os\n",
    "import seaborn as sns\n",
    "import matplotlib.pyplot as plt\n",
    "import numpy as np\n",
    "import pandas as pd"
   ]
  },
  {
   "cell_type": "code",
   "execution_count": 51,
   "metadata": {},
   "outputs": [],
   "source": [
    "\n",
    "num_classes = len(os.listdir(\"./immagini\"))\n",
    "model = models.Sequential()\n",
    "model.add(layers.Conv2D(32, (3, 3), activation='relu', input_shape=(128, 128, 3)))\n",
    "model.add(layers.MaxPooling2D((2, 2)))\n",
    "model.add(layers.Conv2D(64, (3, 3), activation='relu'))\n",
    "model.add(layers.MaxPooling2D((2, 2)))\n",
    "model.add(layers.Conv2D(64, (3, 3), activation='relu'))\n",
    "model.add(layers.Flatten())\n",
    "model.add(layers.Dense(64, activation='relu'))\n",
    "model.add(layers.Dense(num_classes, activation='softmax'))\n",
    "\n",
    "\n",
    "model.compile(optimizer='adam', loss='categorical_crossentropy', metrics=['accuracy'])\n"
   ]
  },
  {
   "cell_type": "code",
   "execution_count": 52,
   "metadata": {},
   "outputs": [
    {
     "name": "stdout",
     "output_type": "stream",
     "text": [
      "Found 7200 images belonging to 9 classes.\n",
      "Found 1800 images belonging to 9 classes.\n"
     ]
    }
   ],
   "source": [
    "\n",
    "train_datagen = ImageDataGenerator(rescale=1./255, validation_split=0.2)\n",
    "\n",
    "base_dir = './immagini'\n",
    "train_generator = train_datagen.flow_from_directory(\n",
    "    base_dir,\n",
    "    target_size=(128, 128),\n",
    "    batch_size=32,\n",
    "    class_mode='categorical',\n",
    "    subset='training'\n",
    ")\n",
    "\n",
    "validation_generator = train_datagen.flow_from_directory(\n",
    "    base_dir,\n",
    "    target_size=(128, 128),\n",
    "    batch_size=32,\n",
    "    class_mode='categorical',\n",
    "    subset='validation'\n",
    ")\n",
    "\n",
    "\n"
   ]
  },
  {
   "cell_type": "code",
   "execution_count": 53,
   "metadata": {},
   "outputs": [],
   "source": [
    "# hystory = model.fit(\n",
    "#     train_generator,\n",
    "#     epochs=50,\n",
    "#     steps_per_epoch=len(train_generator),\n",
    "#     validation_data=validation_generator,\n",
    "#     validation_steps=len(validation_generator),\n",
    "#     verbose=1\n",
    "# )\n"
   ]
  },
  {
   "cell_type": "code",
   "execution_count": 54,
   "metadata": {},
   "outputs": [],
   "source": [
    "\n",
    "# plt.figure(figsize=(10, 6))\n",
    "# plt.plot(hystory.history['accuracy'], label='Training Accuracy', marker='o')\n",
    "# plt.plot(hystory.history['val_accuracy'], label='Validation Accuracy', marker='o')\n",
    "# plt.title('Andamento dell\\'Accuracy')\n",
    "# plt.xlabel('Epoche')\n",
    "# plt.ylabel('Accuracy')\n",
    "# plt.legend()\n",
    "# plt.grid(True)\n",
    "# plt.show()"
   ]
  },
  {
   "cell_type": "code",
   "execution_count": 55,
   "metadata": {},
   "outputs": [],
   "source": [
    "# y_true = test_generator.classes\n",
    "# y_pred_prob = model.predict(test_generator)\n",
    "# y_pred = np.argmax(y_pred_prob, axis=1)\n"
   ]
  },
  {
   "cell_type": "code",
   "execution_count": 56,
   "metadata": {},
   "outputs": [],
   "source": [
    "# y_pred_prob = model.predict(test_generator)\n",
    "# print(y_pred_prob)"
   ]
  },
  {
   "cell_type": "code",
   "execution_count": 57,
   "metadata": {},
   "outputs": [],
   "source": [
    "\n",
    "# print(\"Classification Report:\")\n",
    "# print(classification_report(y_true, y_pred, target_names=train_generator.class_indices.keys()))\n",
    "\n",
    "# conf_matrix = confusion_matrix(y_true, y_pred)\n",
    "# print(\"Confusion Matrix:\")\n",
    "# print(conf_matrix)\n"
   ]
  },
  {
   "cell_type": "code",
   "execution_count": 58,
   "metadata": {},
   "outputs": [],
   "source": [
    "\n",
    "# plt.figure(figsize=(8, 6))\n",
    "# sns.heatmap(conf_matrix, annot=True, fmt='d', cmap='Blues', xticklabels=validation_generator.class_indices.keys(), yticklabels=validation_generator.class_indices.keys())\n",
    "# plt.xlabel('Predicted')\n",
    "# plt.ylabel('True')\n",
    "# plt.title('Confusion Matrix true vs predicted' )\n",
    "# plt.show()\n"
   ]
  },
  {
   "cell_type": "code",
   "execution_count": 59,
   "metadata": {},
   "outputs": [],
   "source": [
    "# from tensorflow.keras.preprocessing import image\n",
    "# import numpy as np\n",
    "\n",
    "# def load_and_preprocess_image(image_path, target_size):\n",
    "#     img = image.load_img(image_path, target_size=target_size)\n",
    "#     img_array = image.img_to_array(img)\n",
    "#     img_array = np.expand_dims(img_array, axis=0)\n",
    "#     img_array /= 255.0  \n",
    "#     return img_array\n",
    "\n",
    "\n",
    "\n",
    "# def predict_single_image(model, image_path, class_names):\n",
    "    \n",
    "#     img_array = load_and_preprocess_image(image_path, target_size=(128, 128))\n",
    "\n",
    "   \n",
    "#     predictions = model.predict(img_array)\n",
    "\n",
    " \n",
    "#     predicted_class_index = np.argmax(predictions[0])\n",
    "\n",
    "   \n",
    "#     predicted_class = class_names[predicted_class_index]\n",
    "\n",
    "#     confidence_levels = {class_name: confidence * 100 for class_name, confidence in zip(class_names, predictions[0])}\n",
    "\n",
    "\n",
    "#     result = {\n",
    "#         'Predicted class': predicted_class,\n",
    "#         'Confidence levels': confidence_levels\n",
    "#     }\n",
    "\n",
    "#     return result"
   ]
  },
  {
   "cell_type": "code",
   "execution_count": 60,
   "metadata": {},
   "outputs": [],
   "source": [
    "# image_to_predict = \"C:/Users/AlessandroLaVeglia/repo_git/Vision-Exam/immagini_di_prova/borraccia/borraccia_201.jpg\"\n",
    "# class_names = [\"borraccia\", \"bottiglia di plastica\", \"bottiglia di vetro\", \"bottiglietta di plastica\", \"cuffie\", \"headset\", \"keyboard\", \"mouse\", \"smartphone\"]\n",
    "\n",
    "\n",
    "# prediction_result = predict_single_image(model, image_to_predict, class_names)\n",
    "\n",
    "\n",
    "# for key, value in prediction_result.items():\n",
    "#     if key == \"Confidence levels\":\n",
    "#         print(f\"{key}:\")\n",
    "#         for class_name, confidence_level in value.items():\n",
    "#             print(f\"  {class_name}: {confidence_level:.2f}%\")\n",
    "#     else:\n",
    "#         print(f\"{key}: {value}\")\n"
   ]
  },
  {
   "cell_type": "code",
   "execution_count": 61,
   "metadata": {},
   "outputs": [],
   "source": [
    "# print(\"Training Dataset Information:\")\n",
    "# print(f\"Number of classes: {num_classes}\")\n",
    "# print(f\"Number of training images: {len(train_generator.classes)}\")\n",
    "\n",
    "# print(\"\\nValidation Dataset Information:\")\n",
    "# print(f\"Number of validation images: {len(test_generator.classes)}\")\n"
   ]
  },
  {
   "cell_type": "code",
   "execution_count": 62,
   "metadata": {},
   "outputs": [],
   "source": [
    "# print(\"Model Summary:\")\n",
    "# model.summary()\n"
   ]
  },
  {
   "cell_type": "code",
   "execution_count": 63,
   "metadata": {},
   "outputs": [],
   "source": [
    "# print(\"\\nTesting Dataset Information:\")\n",
    "# print(f\"Number of testing images: {len(test_generator.classes)}\")\n"
   ]
  },
  {
   "cell_type": "code",
   "execution_count": 64,
   "metadata": {},
   "outputs": [],
   "source": [
    "\n",
    "\n",
    "\n",
    "# image_path_specific = \"C:/Users/AlessandroLaVeglia/repo_git/Vision-Exam/immagini_di_prova/headset/headset_4.jpg\"\n",
    "# example_specific_actual_class = \"headset\"\n",
    "\n",
    "\n",
    "# img_array_specific = load_and_preprocess_image(image_path_specific, target_size=(128, 128))\n",
    "\n",
    "\n",
    "# predictions_specific = model.predict(img_array_specific)\n",
    "# predicted_class_index_specific = np.argmax(predictions_specific[0])\n",
    "# predicted_class_specific = class_names[predicted_class_index_specific]\n",
    "# confidence_specific = predictions_specific[0][predicted_class_index_specific] * 100\n",
    "\n",
    "# print(\"\\nEsempio classificazione:\")\n",
    "# print(f\"- Immagine: {os.path.basename(image_path_specific)}\")\n",
    "# print(f\"- Classe Reale: {example_specific_actual_class}\")\n",
    "# print(f\"- Classe Predetta: {predicted_class_specific}\")\n",
    "# print(f\"- Confidenza: {confidence_specific:.2f}%\")\n",
    "\n",
    "\n"
   ]
  },
  {
   "cell_type": "markdown",
   "metadata": {},
   "source": [
    "# Parte con il train"
   ]
  },
  {
   "cell_type": "code",
   "execution_count": 65,
   "metadata": {},
   "outputs": [
    {
     "name": "stdout",
     "output_type": "stream",
     "text": [
      "Found 7200 images belonging to 9 classes.\n",
      "Epoch 1/50\n",
      "32/32 [==============================] - 7s 203ms/step - loss: 2.2413 - accuracy: 0.1377\n",
      "Epoch 2/50\n",
      "32/32 [==============================] - 6s 193ms/step - loss: 1.9958 - accuracy: 0.2607\n",
      "Epoch 3/50\n",
      "32/32 [==============================] - 6s 192ms/step - loss: 1.7916 - accuracy: 0.3711\n",
      "Epoch 4/50\n",
      "32/32 [==============================] - 6s 183ms/step - loss: 1.6083 - accuracy: 0.4268\n",
      "Epoch 5/50\n",
      "32/32 [==============================] - 6s 187ms/step - loss: 1.5198 - accuracy: 0.4854\n",
      "Epoch 6/50\n",
      "32/32 [==============================] - 6s 184ms/step - loss: 1.3258 - accuracy: 0.5586\n",
      "Epoch 7/50\n",
      "32/32 [==============================] - 6s 180ms/step - loss: 1.3270 - accuracy: 0.5371\n",
      "Epoch 8/50\n",
      "32/32 [==============================] - 6s 180ms/step - loss: 1.2194 - accuracy: 0.6025\n",
      "Epoch 9/50\n",
      "32/32 [==============================] - 6s 179ms/step - loss: 1.1661 - accuracy: 0.6113\n",
      "Epoch 10/50\n",
      "32/32 [==============================] - 6s 178ms/step - loss: 1.1962 - accuracy: 0.5918\n",
      "Epoch 11/50\n",
      "32/32 [==============================] - 6s 179ms/step - loss: 1.1102 - accuracy: 0.6416\n",
      "Epoch 12/50\n",
      "32/32 [==============================] - 6s 184ms/step - loss: 1.0382 - accuracy: 0.6396\n",
      "Epoch 13/50\n",
      "32/32 [==============================] - 6s 185ms/step - loss: 0.9351 - accuracy: 0.6963\n",
      "Epoch 14/50\n",
      "32/32 [==============================] - 6s 188ms/step - loss: 0.9158 - accuracy: 0.6982\n",
      "Epoch 15/50\n",
      "32/32 [==============================] - 6s 186ms/step - loss: 0.8992 - accuracy: 0.6934\n",
      "Epoch 16/50\n",
      "32/32 [==============================] - 6s 178ms/step - loss: 0.8899 - accuracy: 0.7061\n",
      "Epoch 17/50\n",
      "32/32 [==============================] - 6s 180ms/step - loss: 0.8880 - accuracy: 0.7051\n",
      "Epoch 18/50\n",
      "32/32 [==============================] - 6s 181ms/step - loss: 0.8402 - accuracy: 0.7314\n",
      "Epoch 19/50\n",
      "32/32 [==============================] - 6s 184ms/step - loss: 0.7706 - accuracy: 0.7666\n",
      "Epoch 20/50\n",
      "32/32 [==============================] - 6s 177ms/step - loss: 0.6962 - accuracy: 0.7588\n",
      "Epoch 21/50\n",
      "32/32 [==============================] - 6s 179ms/step - loss: 0.6149 - accuracy: 0.8096\n",
      "Epoch 22/50\n",
      "32/32 [==============================] - 6s 172ms/step - loss: 0.6256 - accuracy: 0.7998\n",
      "Epoch 23/50\n",
      "32/32 [==============================] - 6s 172ms/step - loss: 0.5372 - accuracy: 0.8350\n",
      "Epoch 24/50\n",
      "32/32 [==============================] - 6s 172ms/step - loss: 0.5981 - accuracy: 0.7998\n",
      "Epoch 25/50\n",
      "32/32 [==============================] - 6s 174ms/step - loss: 0.5680 - accuracy: 0.8242\n",
      "Epoch 26/50\n",
      "32/32 [==============================] - 6s 175ms/step - loss: 0.5490 - accuracy: 0.8271\n",
      "Epoch 27/50\n",
      "32/32 [==============================] - 6s 171ms/step - loss: 0.4738 - accuracy: 0.8418\n",
      "Epoch 28/50\n",
      "32/32 [==============================] - 6s 202ms/step - loss: 0.4318 - accuracy: 0.8730\n",
      "Epoch 29/50\n",
      "32/32 [==============================] - 6s 189ms/step - loss: 0.4253 - accuracy: 0.8730\n",
      "Epoch 30/50\n",
      "32/32 [==============================] - 6s 197ms/step - loss: 0.4601 - accuracy: 0.8691\n",
      "Epoch 31/50\n",
      "32/32 [==============================] - 6s 177ms/step - loss: 0.4297 - accuracy: 0.8701\n",
      "Epoch 32/50\n",
      "32/32 [==============================] - 6s 181ms/step - loss: 0.4024 - accuracy: 0.8750\n",
      "Epoch 33/50\n",
      "32/32 [==============================] - 6s 175ms/step - loss: 0.3862 - accuracy: 0.8652\n",
      "Epoch 34/50\n",
      "32/32 [==============================] - 6s 176ms/step - loss: 0.4247 - accuracy: 0.8682\n",
      "Epoch 35/50\n",
      "32/32 [==============================] - 5s 170ms/step - loss: 0.4398 - accuracy: 0.8604\n",
      "Epoch 36/50\n",
      "32/32 [==============================] - 6s 171ms/step - loss: 0.3501 - accuracy: 0.8877\n",
      "Epoch 37/50\n",
      "32/32 [==============================] - 6s 172ms/step - loss: 0.3177 - accuracy: 0.9053\n",
      "Epoch 38/50\n",
      "32/32 [==============================] - 6s 172ms/step - loss: 0.2968 - accuracy: 0.9082\n",
      "Epoch 39/50\n",
      "32/32 [==============================] - 5s 170ms/step - loss: 0.3042 - accuracy: 0.9141\n",
      "Epoch 40/50\n",
      "32/32 [==============================] - 6s 172ms/step - loss: 0.2718 - accuracy: 0.9199\n",
      "Epoch 41/50\n",
      "32/32 [==============================] - 5s 170ms/step - loss: 0.2603 - accuracy: 0.9150\n",
      "Epoch 42/50\n",
      "32/32 [==============================] - 6s 172ms/step - loss: 0.3468 - accuracy: 0.9004\n",
      "Epoch 43/50\n",
      "32/32 [==============================] - 6s 171ms/step - loss: 0.3486 - accuracy: 0.8955\n",
      "Epoch 44/50\n",
      "32/32 [==============================] - 5s 170ms/step - loss: 0.2757 - accuracy: 0.9111\n",
      "Epoch 45/50\n",
      "32/32 [==============================] - 6s 174ms/step - loss: 0.3466 - accuracy: 0.9014\n",
      "Epoch 46/50\n",
      "32/32 [==============================] - 5s 170ms/step - loss: 0.2720 - accuracy: 0.9385\n",
      "Epoch 47/50\n",
      "32/32 [==============================] - 6s 171ms/step - loss: 0.2763 - accuracy: 0.9277\n",
      "Epoch 48/50\n",
      "32/32 [==============================] - 6s 173ms/step - loss: 0.3969 - accuracy: 0.8945\n",
      "Epoch 49/50\n",
      "32/32 [==============================] - 6s 171ms/step - loss: 0.2988 - accuracy: 0.9219\n",
      "Epoch 50/50\n",
      "32/32 [==============================] - 5s 170ms/step - loss: 0.2505 - accuracy: 0.9189\n"
     ]
    }
   ],
   "source": [
    "from keras.preprocessing.image import ImageDataGenerator\n",
    "from keras import models, layers\n",
    "\n",
    "# Define the ImageDataGenerator for data augmentation and normalization\n",
    "train_datagen = ImageDataGenerator(\n",
    "    rescale=1./255,\n",
    "    validation_split=0.2,\n",
    "    rotation_range=20,\n",
    "    width_shift_range=0.2,\n",
    "    height_shift_range=0.2,\n",
    "    shear_range=0.2,\n",
    "    zoom_range=0.2,\n",
    "    horizontal_flip=True,\n",
    "    fill_mode='nearest'\n",
    ")\n",
    "\n",
    "# Define the base directory\n",
    "base_dir = './immagini'\n",
    "\n",
    "# Create the training generator\n",
    "train_generator = train_datagen.flow_from_directory(\n",
    "    base_dir,\n",
    "    target_size=(128, 128),\n",
    "    batch_size=32,\n",
    "    class_mode='categorical',\n",
    "    subset='training'\n",
    ")\n",
    "\n",
    "# Define and compile the model\n",
    "num_classes = len(train_generator.class_indices)\n",
    "\n",
    "model = models.Sequential()\n",
    "model.add(layers.Conv2D(32, (3, 3), activation='relu', input_shape=(128, 128, 3)))\n",
    "model.add(layers.MaxPooling2D((2, 2)))\n",
    "model.add(layers.Conv2D(64, (3, 3), activation='relu'))\n",
    "model.add(layers.MaxPooling2D((2, 2)))\n",
    "model.add(layers.Conv2D(64, (3, 3), activation='relu'))\n",
    "model.add(layers.Flatten())\n",
    "model.add(layers.Dense(64, activation='relu'))\n",
    "model.add(layers.Dense(num_classes, activation='softmax'))\n",
    "\n",
    "model.compile(optimizer='adam', loss='categorical_crossentropy', metrics=['accuracy'])\n",
    "\n",
    "# Train the model using only the training generator\n",
    "history = model.fit(\n",
    "    train_generator,\n",
    "    steps_per_epoch=32,\n",
    "    epochs=50,\n",
    "    verbose = 1\n",
    ")\n"
   ]
  },
  {
   "cell_type": "code",
   "execution_count": 66,
   "metadata": {},
   "outputs": [
    {
     "name": "stdout",
     "output_type": "stream",
     "text": [
      "Found 1800 images belonging to 9 classes.\n"
     ]
    },
    {
     "name": "stdout",
     "output_type": "stream",
     "text": [
      "56/56 [==============================] - 7s 117ms/step - loss: 0.7146 - accuracy: 0.8538\n",
      "Test Loss: 0.7146\n",
      "Test Accuracy: 0.8538\n"
     ]
    }
   ],
   "source": [
    "# Assuming you have a separate test generator\n",
    "test_generator = train_datagen.flow_from_directory(\n",
    "    base_dir,\n",
    "    target_size=(128, 128),\n",
    "    batch_size=32,\n",
    "    class_mode='categorical',\n",
    "    subset='validation'  # Adjust this if your test data is in a different subset\n",
    ")\n",
    "num_classes = len(test_generator.class_indices)\n",
    "# Evaluate the model on the test set\n",
    "test_loss, test_accuracy = model.evaluate(\n",
    "    test_generator,\n",
    "    steps=test_generator.samples // test_generator.batch_size\n",
    ")\n",
    "\n",
    "print(f'Test Loss: {test_loss:.4f}')\n",
    "print(f'Test Accuracy: {test_accuracy:.4f}')\n"
   ]
  },
  {
   "cell_type": "code",
   "execution_count": 78,
   "metadata": {},
   "outputs": [
    {
     "name": "stdout",
     "output_type": "stream",
     "text": [
      "56/56 [==============================] - 6s 101ms/step - loss: 0.7295 - accuracy: 0.8510\n",
      "Test Loss: 0.7295\n",
      "Test Accuracy: 0.8510\n",
      "32/32 [==============================] - 3s 101ms/step\n"
     ]
    },
    {
     "ename": "KeyError",
     "evalue": "'test_accuracy'",
     "output_type": "error",
     "traceback": [
      "\u001b[1;31m---------------------------------------------------------------------------\u001b[0m",
      "\u001b[1;31mKeyError\u001b[0m                                  Traceback (most recent call last)",
      "\u001b[1;32mc:\\Users\\Marco\\Desktop\\Scuola ITS\\robe Git\\Vision-Exam\\model.ipynb Cell 19\u001b[0m line \u001b[0;36m3\n\u001b[0;32m     <a href='vscode-notebook-cell:/c%3A/Users/Marco/Desktop/Scuola%20ITS/robe%20Git/Vision-Exam/model.ipynb#X26sZmlsZQ%3D%3D?line=27'>28</a>\u001b[0m plt\u001b[39m.\u001b[39msubplot(\u001b[39m1\u001b[39m, \u001b[39m2\u001b[39m, \u001b[39m1\u001b[39m)\n\u001b[0;32m     <a href='vscode-notebook-cell:/c%3A/Users/Marco/Desktop/Scuola%20ITS/robe%20Git/Vision-Exam/model.ipynb#X26sZmlsZQ%3D%3D?line=28'>29</a>\u001b[0m plt\u001b[39m.\u001b[39mplot(history\u001b[39m.\u001b[39mhistory[\u001b[39m'\u001b[39m\u001b[39maccuracy\u001b[39m\u001b[39m'\u001b[39m], label\u001b[39m=\u001b[39m\u001b[39m'\u001b[39m\u001b[39mTraining Accuracy\u001b[39m\u001b[39m'\u001b[39m)\n\u001b[1;32m---> <a href='vscode-notebook-cell:/c%3A/Users/Marco/Desktop/Scuola%20ITS/robe%20Git/Vision-Exam/model.ipynb#X26sZmlsZQ%3D%3D?line=29'>30</a>\u001b[0m plt\u001b[39m.\u001b[39mplot(history\u001b[39m.\u001b[39;49mhistory[\u001b[39m'\u001b[39;49m\u001b[39mtest_accuracy\u001b[39;49m\u001b[39m'\u001b[39;49m], label\u001b[39m=\u001b[39m\u001b[39m'\u001b[39m\u001b[39mTest Accuracy\u001b[39m\u001b[39m'\u001b[39m)  \u001b[39m# Adjusted here\u001b[39;00m\n\u001b[0;32m     <a href='vscode-notebook-cell:/c%3A/Users/Marco/Desktop/Scuola%20ITS/robe%20Git/Vision-Exam/model.ipynb#X26sZmlsZQ%3D%3D?line=30'>31</a>\u001b[0m plt\u001b[39m.\u001b[39mxlabel(\u001b[39m'\u001b[39m\u001b[39mEpoch\u001b[39m\u001b[39m'\u001b[39m)\n\u001b[0;32m     <a href='vscode-notebook-cell:/c%3A/Users/Marco/Desktop/Scuola%20ITS/robe%20Git/Vision-Exam/model.ipynb#X26sZmlsZQ%3D%3D?line=31'>32</a>\u001b[0m plt\u001b[39m.\u001b[39mylabel(\u001b[39m'\u001b[39m\u001b[39mAccuracy\u001b[39m\u001b[39m'\u001b[39m)\n",
      "\u001b[1;31mKeyError\u001b[0m: 'test_accuracy'"
     ]
    },
    {
     "data": {
      "image/png": "[encoded data removed]",
      "text/plain": [
       "<Figure size 1000x500 with 1 Axes>"
      ]
     },
     "metadata": {},
     "output_type": "display_data"
    }
   ],
   "source": [
    "import matplotlib.pyplot as plt\n",
    "import numpy as np\n",
    "from sklearn.metrics import confusion_matrix, ConfusionMatrixDisplay\n",
    "\n",
    "# Assuming 'model', 'test_generator', and 'history' are defined as in the provided code\n",
    "\n",
    "# Uncomment these lines to evaluate the model on the test set\n",
    "test_loss, test_accuracy = model.evaluate(\n",
    "    test_generator,\n",
    "    steps=test_generator.samples // test_generator.batch_size\n",
    ")\n",
    "\n",
    "# Print the test loss and accuracy\n",
    "print(f'Test Loss: {test_loss:.4f}')\n",
    "print(f'Test Accuracy: {test_accuracy:.4f}')\n",
    "\n",
    "# Generate predictions\n",
    "predictions = model.predict(test_generator, steps=32)\n",
    "\n",
    "# Get true labels\n",
    "\n",
    "\n",
    "# Get class names\n",
    "class_names = list(test_generator.class_indices.keys())\n",
    "\n",
    "# Plot accuracy over epochs\n",
    "plt.figure(figsize=(10, 5))\n",
    "plt.subplot(1, 2, 1)\n",
    "plt.plot(history.history['accuracy'], label='Training Accuracy')\n",
    "plt.plot(history.history['test_accuracy'], label='Test Accuracy')  # Adjusted here\n",
    "plt.xlabel('Epoch')\n",
    "plt.ylabel('Accuracy')\n",
    "plt.title('Training and Test Accuracy')  # Adjusted here\n",
    "plt.legend()\n",
    "\n",
    "\n"
   ]
  },
  {
   "cell_type": "code",
   "execution_count": 76,
   "metadata": {},
   "outputs": [
    {
     "data": {
      "text/plain": [
       "array([0, 0, 0, ..., 8, 8, 8])"
      ]
     },
     "execution_count": 76,
     "metadata": {},
     "output_type": "execute_result"
    }
   ],
   "source": []
  },
  {
   "cell_type": "code",
   "execution_count": 82,
   "metadata": {},
   "outputs": [
    {
     "data": {
      "image/png": "[encoded data removed]",
      "text/plain": [
       "<Figure size 640x480 with 1 Axes>"
      ]
     },
     "metadata": {},
     "output_type": "display_data"
    },
    {
     "data": {
      "image/png": "[encoded data removed]",
      "text/plain": [
       "<Figure size 640x480 with 2 Axes>"
      ]
     },
     "metadata": {},
     "output_type": "display_data"
    }
   ],
   "source": [
    "# Ensure that true_labels and predictions have the same length\n",
    "min_length = min(len(true_labels), len(predictions))\n",
    "true_labels = true_labels[:min_length]\n",
    "predicted_labels = np.argmax(predictions, axis=1)[:min_length]\n",
    "\n",
    "# Create confusion matrix\n",
    "conf_mat = confusion_matrix(true_labels, predicted_labels)\n",
    "\n",
    "# Define numeric labels (0 to 9)\n",
    "numeric_labels = list(range(len(class_names)))\n",
    "\n",
    "# Plot confusion matrix\n",
    "plt.subplot(1, 2, 2)\n",
    "disp = ConfusionMatrixDisplay(conf_mat, display_labels=class_names)\n",
    "disp.plot(cmap=plt.cm.Blues, values_format='.4g')\n",
    "\n",
    "# Set numeric labels on the x-axis\n",
    "plt.xticks(ticks=numeric_labels, labels=numeric_labels)\n",
    "\n",
    "plt.title('Confusion Matrix')\n",
    "\n",
    "plt.show()\n"
   ]
  },
  {
   "cell_type": "code",
   "execution_count": 83,
   "metadata": {},
   "outputs": [
    {
     "name": "stdout",
     "output_type": "stream",
     "text": [
      "56/56 [==============================] - 6s 102ms/step - loss: 0.7465 - accuracy: 0.8627\n",
      "Test Loss: 0.7465\n",
      "Test Accuracy: 0.8627\n"
     ]
    }
   ],
   "source": [
    "test_loss, test_accuracy = model.evaluate(\n",
    "    test_generator,\n",
    "    steps=test_generator.samples // test_generator.batch_size\n",
    ")\n",
    "\n",
    "print(f'Test Loss: {test_loss:.4f}')\n",
    "print(f'Test Accuracy: {test_accuracy:.4f}')"
   ]
  },
  {
   "cell_type": "code",
   "execution_count": 84,
   "metadata": {},
   "outputs": [],
   "source": [
    "from sklearn.metrics import confusion_matrix, ConfusionMatrixDisplay, f1_score, classification_report"
   ]
  },
  {
   "cell_type": "code",
   "execution_count": 85,
   "metadata": {},
   "outputs": [
    {
     "name": "stdout",
     "output_type": "stream",
     "text": [
      "56/56 [==============================] - 6s 102ms/step\n"
     ]
    }
   ],
   "source": [
    "predictions = model.predict(test_generator, steps=test_generator.samples // test_generator.batch_size)"
   ]
  },
  {
   "cell_type": "code",
   "execution_count": 86,
   "metadata": {},
   "outputs": [
    {
     "name": "stdout",
     "output_type": "stream",
     "text": [
      "Weighted F1 Score: 0.1273\n"
     ]
    }
   ],
   "source": [
    "from sklearn.metrics import f1_score\n",
    "\n",
    "# Ensure that true_labels and predictions have the same length\n",
    "min_length = min(len(true_labels), len(predictions))\n",
    "true_labels = true_labels[:min_length]\n",
    "predicted_labels = np.argmax(predictions, axis=1)[:min_length]\n",
    "\n",
    "# Calculate F1 score\n",
    "f1 = f1_score(true_labels, predicted_labels, average='weighted')\n",
    "print(f'Weighted F1 Score: {f1:.4f}')\n"
   ]
  },
  {
   "cell_type": "markdown",
   "metadata": {},
   "source": [
    "## Con diversi modelli"
   ]
  },
  {
   "cell_type": "code",
   "execution_count": 88,
   "metadata": {},
   "outputs": [
    {
     "name": "stdout",
     "output_type": "stream",
     "text": [
      "Found 7200 images belonging to 9 classes.\n",
      "Found 1800 images belonging to 9 classes.\n",
      "Downloading data from https://storage.googleapis.com/tensorflow/keras-applications/vgg16/vgg16_weights_tf_dim_ordering_tf_kernels_notop.h5\n",
      "58889256/58889256 [==============================] - 2s 0us/step\n",
      "Epoch 1/10\n",
      "  8/225 [>.............................] - ETA: 30:35 - loss: 3.1165 - accuracy: 0.0938"
     ]
    },
    {
     "ename": "KeyboardInterrupt",
     "evalue": "",
     "output_type": "error",
     "traceback": [
      "\u001b[1;31m---------------------------------------------------------------------------\u001b[0m",
      "\u001b[1;31mKeyboardInterrupt\u001b[0m                         Traceback (most recent call last)",
      "\u001b[1;32mc:\\Users\\Marco\\Desktop\\Scuola ITS\\robe Git\\Vision-Exam\\model.ipynb Cell 27\u001b[0m line \u001b[0;36m6\n\u001b[0;32m     <a href='vscode-notebook-cell:/c%3A/Users/Marco/Desktop/Scuola%20ITS/robe%20Git/Vision-Exam/model.ipynb#X40sZmlsZQ%3D%3D?line=60'>61</a>\u001b[0m model\u001b[39m.\u001b[39mcompile(optimizer\u001b[39m=\u001b[39mAdam(), loss\u001b[39m=\u001b[39m\u001b[39m'\u001b[39m\u001b[39mcategorical_crossentropy\u001b[39m\u001b[39m'\u001b[39m, metrics\u001b[39m=\u001b[39m[\u001b[39m'\u001b[39m\u001b[39maccuracy\u001b[39m\u001b[39m'\u001b[39m])\n\u001b[0;32m     <a href='vscode-notebook-cell:/c%3A/Users/Marco/Desktop/Scuola%20ITS/robe%20Git/Vision-Exam/model.ipynb#X40sZmlsZQ%3D%3D?line=62'>63</a>\u001b[0m \u001b[39m# Train the model\u001b[39;00m\n\u001b[1;32m---> <a href='vscode-notebook-cell:/c%3A/Users/Marco/Desktop/Scuola%20ITS/robe%20Git/Vision-Exam/model.ipynb#X40sZmlsZQ%3D%3D?line=63'>64</a>\u001b[0m history \u001b[39m=\u001b[39m model\u001b[39m.\u001b[39;49mfit(\n\u001b[0;32m     <a href='vscode-notebook-cell:/c%3A/Users/Marco/Desktop/Scuola%20ITS/robe%20Git/Vision-Exam/model.ipynb#X40sZmlsZQ%3D%3D?line=64'>65</a>\u001b[0m     train_generator,\n\u001b[0;32m     <a href='vscode-notebook-cell:/c%3A/Users/Marco/Desktop/Scuola%20ITS/robe%20Git/Vision-Exam/model.ipynb#X40sZmlsZQ%3D%3D?line=65'>66</a>\u001b[0m     steps_per_epoch\u001b[39m=\u001b[39;49mtrain_generator\u001b[39m.\u001b[39;49msamples \u001b[39m/\u001b[39;49m\u001b[39m/\u001b[39;49m train_generator\u001b[39m.\u001b[39;49mbatch_size,\n\u001b[0;32m     <a href='vscode-notebook-cell:/c%3A/Users/Marco/Desktop/Scuola%20ITS/robe%20Git/Vision-Exam/model.ipynb#X40sZmlsZQ%3D%3D?line=66'>67</a>\u001b[0m     epochs\u001b[39m=\u001b[39;49m\u001b[39m10\u001b[39;49m,  \u001b[39m# You can adjust the number of epochs\u001b[39;49;00m\n\u001b[0;32m     <a href='vscode-notebook-cell:/c%3A/Users/Marco/Desktop/Scuola%20ITS/robe%20Git/Vision-Exam/model.ipynb#X40sZmlsZQ%3D%3D?line=67'>68</a>\u001b[0m     validation_data\u001b[39m=\u001b[39;49mvalidation_generator,\n\u001b[0;32m     <a href='vscode-notebook-cell:/c%3A/Users/Marco/Desktop/Scuola%20ITS/robe%20Git/Vision-Exam/model.ipynb#X40sZmlsZQ%3D%3D?line=68'>69</a>\u001b[0m     validation_steps\u001b[39m=\u001b[39;49mvalidation_generator\u001b[39m.\u001b[39;49msamples \u001b[39m/\u001b[39;49m\u001b[39m/\u001b[39;49m validation_generator\u001b[39m.\u001b[39;49mbatch_size\n\u001b[0;32m     <a href='vscode-notebook-cell:/c%3A/Users/Marco/Desktop/Scuola%20ITS/robe%20Git/Vision-Exam/model.ipynb#X40sZmlsZQ%3D%3D?line=69'>70</a>\u001b[0m )\n\u001b[0;32m     <a href='vscode-notebook-cell:/c%3A/Users/Marco/Desktop/Scuola%20ITS/robe%20Git/Vision-Exam/model.ipynb#X40sZmlsZQ%3D%3D?line=71'>72</a>\u001b[0m \u001b[39m# Evaluate the model on the test set\u001b[39;00m\n\u001b[0;32m     <a href='vscode-notebook-cell:/c%3A/Users/Marco/Desktop/Scuola%20ITS/robe%20Git/Vision-Exam/model.ipynb#X40sZmlsZQ%3D%3D?line=72'>73</a>\u001b[0m test_generator \u001b[39m=\u001b[39m train_datagen\u001b[39m.\u001b[39mflow_from_directory(\n\u001b[0;32m     <a href='vscode-notebook-cell:/c%3A/Users/Marco/Desktop/Scuola%20ITS/robe%20Git/Vision-Exam/model.ipynb#X40sZmlsZQ%3D%3D?line=73'>74</a>\u001b[0m     base_dir,\n\u001b[0;32m     <a href='vscode-notebook-cell:/c%3A/Users/Marco/Desktop/Scuola%20ITS/robe%20Git/Vision-Exam/model.ipynb#X40sZmlsZQ%3D%3D?line=74'>75</a>\u001b[0m     target_size\u001b[39m=\u001b[39m(\u001b[39m224\u001b[39m, \u001b[39m224\u001b[39m),\n\u001b[1;32m   (...)\u001b[0m\n\u001b[0;32m     <a href='vscode-notebook-cell:/c%3A/Users/Marco/Desktop/Scuola%20ITS/robe%20Git/Vision-Exam/model.ipynb#X40sZmlsZQ%3D%3D?line=77'>78</a>\u001b[0m     subset\u001b[39m=\u001b[39m\u001b[39m'\u001b[39m\u001b[39mvalidation\u001b[39m\u001b[39m'\u001b[39m\n\u001b[0;32m     <a href='vscode-notebook-cell:/c%3A/Users/Marco/Desktop/Scuola%20ITS/robe%20Git/Vision-Exam/model.ipynb#X40sZmlsZQ%3D%3D?line=78'>79</a>\u001b[0m )\n",
      "File \u001b[1;32mc:\\Users\\Marco\\anaconda3\\envs\\ML\\Lib\\site-packages\\keras\\src\\utils\\traceback_utils.py:65\u001b[0m, in \u001b[0;36mfilter_traceback.<locals>.error_handler\u001b[1;34m(*args, **kwargs)\u001b[0m\n\u001b[0;32m     63\u001b[0m filtered_tb \u001b[39m=\u001b[39m \u001b[39mNone\u001b[39;00m\n\u001b[0;32m     64\u001b[0m \u001b[39mtry\u001b[39;00m:\n\u001b[1;32m---> 65\u001b[0m     \u001b[39mreturn\u001b[39;00m fn(\u001b[39m*\u001b[39;49margs, \u001b[39m*\u001b[39;49m\u001b[39m*\u001b[39;49mkwargs)\n\u001b[0;32m     66\u001b[0m \u001b[39mexcept\u001b[39;00m \u001b[39mException\u001b[39;00m \u001b[39mas\u001b[39;00m e:\n\u001b[0;32m     67\u001b[0m     filtered_tb \u001b[39m=\u001b[39m _process_traceback_frames(e\u001b[39m.\u001b[39m__traceback__)\n",
      "File \u001b[1;32mc:\\Users\\Marco\\anaconda3\\envs\\ML\\Lib\\site-packages\\keras\\src\\engine\\training.py:1807\u001b[0m, in \u001b[0;36mModel.fit\u001b[1;34m(self, x, y, batch_size, epochs, verbose, callbacks, validation_split, validation_data, shuffle, class_weight, sample_weight, initial_epoch, steps_per_epoch, validation_steps, validation_batch_size, validation_freq, max_queue_size, workers, use_multiprocessing)\u001b[0m\n\u001b[0;32m   1799\u001b[0m \u001b[39mwith\u001b[39;00m tf\u001b[39m.\u001b[39mprofiler\u001b[39m.\u001b[39mexperimental\u001b[39m.\u001b[39mTrace(\n\u001b[0;32m   1800\u001b[0m     \u001b[39m\"\u001b[39m\u001b[39mtrain\u001b[39m\u001b[39m\"\u001b[39m,\n\u001b[0;32m   1801\u001b[0m     epoch_num\u001b[39m=\u001b[39mepoch,\n\u001b[1;32m   (...)\u001b[0m\n\u001b[0;32m   1804\u001b[0m     _r\u001b[39m=\u001b[39m\u001b[39m1\u001b[39m,\n\u001b[0;32m   1805\u001b[0m ):\n\u001b[0;32m   1806\u001b[0m     callbacks\u001b[39m.\u001b[39mon_train_batch_begin(step)\n\u001b[1;32m-> 1807\u001b[0m     tmp_logs \u001b[39m=\u001b[39m \u001b[39mself\u001b[39;49m\u001b[39m.\u001b[39;49mtrain_function(iterator)\n\u001b[0;32m   1808\u001b[0m     \u001b[39mif\u001b[39;00m data_handler\u001b[39m.\u001b[39mshould_sync:\n\u001b[0;32m   1809\u001b[0m         context\u001b[39m.\u001b[39masync_wait()\n",
      "File \u001b[1;32mc:\\Users\\Marco\\anaconda3\\envs\\ML\\Lib\\site-packages\\tensorflow\\python\\util\\traceback_utils.py:150\u001b[0m, in \u001b[0;36mfilter_traceback.<locals>.error_handler\u001b[1;34m(*args, **kwargs)\u001b[0m\n\u001b[0;32m    148\u001b[0m filtered_tb \u001b[39m=\u001b[39m \u001b[39mNone\u001b[39;00m\n\u001b[0;32m    149\u001b[0m \u001b[39mtry\u001b[39;00m:\n\u001b[1;32m--> 150\u001b[0m   \u001b[39mreturn\u001b[39;00m fn(\u001b[39m*\u001b[39;49margs, \u001b[39m*\u001b[39;49m\u001b[39m*\u001b[39;49mkwargs)\n\u001b[0;32m    151\u001b[0m \u001b[39mexcept\u001b[39;00m \u001b[39mException\u001b[39;00m \u001b[39mas\u001b[39;00m e:\n\u001b[0;32m    152\u001b[0m   filtered_tb \u001b[39m=\u001b[39m _process_traceback_frames(e\u001b[39m.\u001b[39m__traceback__)\n",
      "File \u001b[1;32mc:\\Users\\Marco\\anaconda3\\envs\\ML\\Lib\\site-packages\\tensorflow\\python\\eager\\polymorphic_function\\polymorphic_function.py:832\u001b[0m, in \u001b[0;36mFunction.__call__\u001b[1;34m(self, *args, **kwds)\u001b[0m\n\u001b[0;32m    829\u001b[0m compiler \u001b[39m=\u001b[39m \u001b[39m\"\u001b[39m\u001b[39mxla\u001b[39m\u001b[39m\"\u001b[39m \u001b[39mif\u001b[39;00m \u001b[39mself\u001b[39m\u001b[39m.\u001b[39m_jit_compile \u001b[39melse\u001b[39;00m \u001b[39m\"\u001b[39m\u001b[39mnonXla\u001b[39m\u001b[39m\"\u001b[39m\n\u001b[0;32m    831\u001b[0m \u001b[39mwith\u001b[39;00m OptionalXlaContext(\u001b[39mself\u001b[39m\u001b[39m.\u001b[39m_jit_compile):\n\u001b[1;32m--> 832\u001b[0m   result \u001b[39m=\u001b[39m \u001b[39mself\u001b[39;49m\u001b[39m.\u001b[39;49m_call(\u001b[39m*\u001b[39;49margs, \u001b[39m*\u001b[39;49m\u001b[39m*\u001b[39;49mkwds)\n\u001b[0;32m    834\u001b[0m new_tracing_count \u001b[39m=\u001b[39m \u001b[39mself\u001b[39m\u001b[39m.\u001b[39mexperimental_get_tracing_count()\n\u001b[0;32m    835\u001b[0m without_tracing \u001b[39m=\u001b[39m (tracing_count \u001b[39m==\u001b[39m new_tracing_count)\n",
      "File \u001b[1;32mc:\\Users\\Marco\\anaconda3\\envs\\ML\\Lib\\site-packages\\tensorflow\\python\\eager\\polymorphic_function\\polymorphic_function.py:868\u001b[0m, in \u001b[0;36mFunction._call\u001b[1;34m(self, *args, **kwds)\u001b[0m\n\u001b[0;32m    865\u001b[0m   \u001b[39mself\u001b[39m\u001b[39m.\u001b[39m_lock\u001b[39m.\u001b[39mrelease()\n\u001b[0;32m    866\u001b[0m   \u001b[39m# In this case we have created variables on the first call, so we run the\u001b[39;00m\n\u001b[0;32m    867\u001b[0m   \u001b[39m# defunned version which is guaranteed to never create variables.\u001b[39;00m\n\u001b[1;32m--> 868\u001b[0m   \u001b[39mreturn\u001b[39;00m tracing_compilation\u001b[39m.\u001b[39;49mcall_function(\n\u001b[0;32m    869\u001b[0m       args, kwds, \u001b[39mself\u001b[39;49m\u001b[39m.\u001b[39;49m_no_variable_creation_config\n\u001b[0;32m    870\u001b[0m   )\n\u001b[0;32m    871\u001b[0m \u001b[39melif\u001b[39;00m \u001b[39mself\u001b[39m\u001b[39m.\u001b[39m_variable_creation_config \u001b[39mis\u001b[39;00m \u001b[39mnot\u001b[39;00m \u001b[39mNone\u001b[39;00m:\n\u001b[0;32m    872\u001b[0m   \u001b[39m# Release the lock early so that multiple threads can perform the call\u001b[39;00m\n\u001b[0;32m    873\u001b[0m   \u001b[39m# in parallel.\u001b[39;00m\n\u001b[0;32m    874\u001b[0m   \u001b[39mself\u001b[39m\u001b[39m.\u001b[39m_lock\u001b[39m.\u001b[39mrelease()\n",
      "File \u001b[1;32mc:\\Users\\Marco\\anaconda3\\envs\\ML\\Lib\\site-packages\\tensorflow\\python\\eager\\polymorphic_function\\tracing_compilation.py:139\u001b[0m, in \u001b[0;36mcall_function\u001b[1;34m(args, kwargs, tracing_options)\u001b[0m\n\u001b[0;32m    137\u001b[0m bound_args \u001b[39m=\u001b[39m function\u001b[39m.\u001b[39mfunction_type\u001b[39m.\u001b[39mbind(\u001b[39m*\u001b[39margs, \u001b[39m*\u001b[39m\u001b[39m*\u001b[39mkwargs)\n\u001b[0;32m    138\u001b[0m flat_inputs \u001b[39m=\u001b[39m function\u001b[39m.\u001b[39mfunction_type\u001b[39m.\u001b[39munpack_inputs(bound_args)\n\u001b[1;32m--> 139\u001b[0m \u001b[39mreturn\u001b[39;00m function\u001b[39m.\u001b[39;49m_call_flat(  \u001b[39m# pylint: disable=protected-access\u001b[39;49;00m\n\u001b[0;32m    140\u001b[0m     flat_inputs, captured_inputs\u001b[39m=\u001b[39;49mfunction\u001b[39m.\u001b[39;49mcaptured_inputs\n\u001b[0;32m    141\u001b[0m )\n",
      "File \u001b[1;32mc:\\Users\\Marco\\anaconda3\\envs\\ML\\Lib\\site-packages\\tensorflow\\python\\eager\\polymorphic_function\\concrete_function.py:1323\u001b[0m, in \u001b[0;36mConcreteFunction._call_flat\u001b[1;34m(self, tensor_inputs, captured_inputs)\u001b[0m\n\u001b[0;32m   1319\u001b[0m possible_gradient_type \u001b[39m=\u001b[39m gradients_util\u001b[39m.\u001b[39mPossibleTapeGradientTypes(args)\n\u001b[0;32m   1320\u001b[0m \u001b[39mif\u001b[39;00m (possible_gradient_type \u001b[39m==\u001b[39m gradients_util\u001b[39m.\u001b[39mPOSSIBLE_GRADIENT_TYPES_NONE\n\u001b[0;32m   1321\u001b[0m     \u001b[39mand\u001b[39;00m executing_eagerly):\n\u001b[0;32m   1322\u001b[0m   \u001b[39m# No tape is watching; skip to running the function.\u001b[39;00m\n\u001b[1;32m-> 1323\u001b[0m   \u001b[39mreturn\u001b[39;00m \u001b[39mself\u001b[39;49m\u001b[39m.\u001b[39;49m_inference_function\u001b[39m.\u001b[39;49mcall_preflattened(args)\n\u001b[0;32m   1324\u001b[0m forward_backward \u001b[39m=\u001b[39m \u001b[39mself\u001b[39m\u001b[39m.\u001b[39m_select_forward_and_backward_functions(\n\u001b[0;32m   1325\u001b[0m     args,\n\u001b[0;32m   1326\u001b[0m     possible_gradient_type,\n\u001b[0;32m   1327\u001b[0m     executing_eagerly)\n\u001b[0;32m   1328\u001b[0m forward_function, args_with_tangents \u001b[39m=\u001b[39m forward_backward\u001b[39m.\u001b[39mforward()\n",
      "File \u001b[1;32mc:\\Users\\Marco\\anaconda3\\envs\\ML\\Lib\\site-packages\\tensorflow\\python\\eager\\polymorphic_function\\atomic_function.py:216\u001b[0m, in \u001b[0;36mAtomicFunction.call_preflattened\u001b[1;34m(self, args)\u001b[0m\n\u001b[0;32m    214\u001b[0m \u001b[39mdef\u001b[39;00m \u001b[39mcall_preflattened\u001b[39m(\u001b[39mself\u001b[39m, args: Sequence[core\u001b[39m.\u001b[39mTensor]) \u001b[39m-\u001b[39m\u001b[39m>\u001b[39m Any:\n\u001b[0;32m    215\u001b[0m \u001b[39m  \u001b[39m\u001b[39m\"\"\"Calls with flattened tensor inputs and returns the structured output.\"\"\"\u001b[39;00m\n\u001b[1;32m--> 216\u001b[0m   flat_outputs \u001b[39m=\u001b[39m \u001b[39mself\u001b[39;49m\u001b[39m.\u001b[39;49mcall_flat(\u001b[39m*\u001b[39;49margs)\n\u001b[0;32m    217\u001b[0m   \u001b[39mreturn\u001b[39;00m \u001b[39mself\u001b[39m\u001b[39m.\u001b[39mfunction_type\u001b[39m.\u001b[39mpack_output(flat_outputs)\n",
      "File \u001b[1;32mc:\\Users\\Marco\\anaconda3\\envs\\ML\\Lib\\site-packages\\tensorflow\\python\\eager\\polymorphic_function\\atomic_function.py:251\u001b[0m, in \u001b[0;36mAtomicFunction.call_flat\u001b[1;34m(self, *args)\u001b[0m\n\u001b[0;32m    249\u001b[0m \u001b[39mwith\u001b[39;00m record\u001b[39m.\u001b[39mstop_recording():\n\u001b[0;32m    250\u001b[0m   \u001b[39mif\u001b[39;00m \u001b[39mself\u001b[39m\u001b[39m.\u001b[39m_bound_context\u001b[39m.\u001b[39mexecuting_eagerly():\n\u001b[1;32m--> 251\u001b[0m     outputs \u001b[39m=\u001b[39m \u001b[39mself\u001b[39;49m\u001b[39m.\u001b[39;49m_bound_context\u001b[39m.\u001b[39;49mcall_function(\n\u001b[0;32m    252\u001b[0m         \u001b[39mself\u001b[39;49m\u001b[39m.\u001b[39;49mname,\n\u001b[0;32m    253\u001b[0m         \u001b[39mlist\u001b[39;49m(args),\n\u001b[0;32m    254\u001b[0m         \u001b[39mlen\u001b[39;49m(\u001b[39mself\u001b[39;49m\u001b[39m.\u001b[39;49mfunction_type\u001b[39m.\u001b[39;49mflat_outputs),\n\u001b[0;32m    255\u001b[0m     )\n\u001b[0;32m    256\u001b[0m   \u001b[39melse\u001b[39;00m:\n\u001b[0;32m    257\u001b[0m     outputs \u001b[39m=\u001b[39m make_call_op_in_graph(\n\u001b[0;32m    258\u001b[0m         \u001b[39mself\u001b[39m,\n\u001b[0;32m    259\u001b[0m         \u001b[39mlist\u001b[39m(args),\n\u001b[0;32m    260\u001b[0m         \u001b[39mself\u001b[39m\u001b[39m.\u001b[39m_bound_context\u001b[39m.\u001b[39mfunction_call_options\u001b[39m.\u001b[39mas_attrs(),\n\u001b[0;32m    261\u001b[0m     )\n",
      "File \u001b[1;32mc:\\Users\\Marco\\anaconda3\\envs\\ML\\Lib\\site-packages\\tensorflow\\python\\eager\\context.py:1486\u001b[0m, in \u001b[0;36mContext.call_function\u001b[1;34m(self, name, tensor_inputs, num_outputs)\u001b[0m\n\u001b[0;32m   1484\u001b[0m cancellation_context \u001b[39m=\u001b[39m cancellation\u001b[39m.\u001b[39mcontext()\n\u001b[0;32m   1485\u001b[0m \u001b[39mif\u001b[39;00m cancellation_context \u001b[39mis\u001b[39;00m \u001b[39mNone\u001b[39;00m:\n\u001b[1;32m-> 1486\u001b[0m   outputs \u001b[39m=\u001b[39m execute\u001b[39m.\u001b[39;49mexecute(\n\u001b[0;32m   1487\u001b[0m       name\u001b[39m.\u001b[39;49mdecode(\u001b[39m\"\u001b[39;49m\u001b[39mutf-8\u001b[39;49m\u001b[39m\"\u001b[39;49m),\n\u001b[0;32m   1488\u001b[0m       num_outputs\u001b[39m=\u001b[39;49mnum_outputs,\n\u001b[0;32m   1489\u001b[0m       inputs\u001b[39m=\u001b[39;49mtensor_inputs,\n\u001b[0;32m   1490\u001b[0m       attrs\u001b[39m=\u001b[39;49mattrs,\n\u001b[0;32m   1491\u001b[0m       ctx\u001b[39m=\u001b[39;49m\u001b[39mself\u001b[39;49m,\n\u001b[0;32m   1492\u001b[0m   )\n\u001b[0;32m   1493\u001b[0m \u001b[39melse\u001b[39;00m:\n\u001b[0;32m   1494\u001b[0m   outputs \u001b[39m=\u001b[39m execute\u001b[39m.\u001b[39mexecute_with_cancellation(\n\u001b[0;32m   1495\u001b[0m       name\u001b[39m.\u001b[39mdecode(\u001b[39m\"\u001b[39m\u001b[39mutf-8\u001b[39m\u001b[39m\"\u001b[39m),\n\u001b[0;32m   1496\u001b[0m       num_outputs\u001b[39m=\u001b[39mnum_outputs,\n\u001b[1;32m   (...)\u001b[0m\n\u001b[0;32m   1500\u001b[0m       cancellation_manager\u001b[39m=\u001b[39mcancellation_context,\n\u001b[0;32m   1501\u001b[0m   )\n",
      "File \u001b[1;32mc:\\Users\\Marco\\anaconda3\\envs\\ML\\Lib\\site-packages\\tensorflow\\python\\eager\\execute.py:53\u001b[0m, in \u001b[0;36mquick_execute\u001b[1;34m(op_name, num_outputs, inputs, attrs, ctx, name)\u001b[0m\n\u001b[0;32m     51\u001b[0m \u001b[39mtry\u001b[39;00m:\n\u001b[0;32m     52\u001b[0m   ctx\u001b[39m.\u001b[39mensure_initialized()\n\u001b[1;32m---> 53\u001b[0m   tensors \u001b[39m=\u001b[39m pywrap_tfe\u001b[39m.\u001b[39;49mTFE_Py_Execute(ctx\u001b[39m.\u001b[39;49m_handle, device_name, op_name,\n\u001b[0;32m     54\u001b[0m                                       inputs, attrs, num_outputs)\n\u001b[0;32m     55\u001b[0m \u001b[39mexcept\u001b[39;00m core\u001b[39m.\u001b[39m_NotOkStatusException \u001b[39mas\u001b[39;00m e:\n\u001b[0;32m     56\u001b[0m   \u001b[39mif\u001b[39;00m name \u001b[39mis\u001b[39;00m \u001b[39mnot\u001b[39;00m \u001b[39mNone\u001b[39;00m:\n",
      "\u001b[1;31mKeyboardInterrupt\u001b[0m: "
     ]
    }
   ],
   "source": [
    "from keras.applications import VGG16, ResNet50, InceptionV3, MobileNetV2, EfficientNetB0, DenseNet121\n",
    "from keras.preprocessing.image import ImageDataGenerator\n",
    "from keras.models import Model\n",
    "from keras.layers import Dense, GlobalAveragePooling2D\n",
    "from keras.optimizers import Adam\n",
    "import matplotlib.pyplot as plt\n",
    "import numpy as np\n",
    "from sklearn.metrics import confusion_matrix, ConfusionMatrixDisplay, f1_score, classification_report\n",
    "\n",
    "# Define the base directory\n",
    "base_dir = './immagini'\n",
    "\n",
    "# Create the ImageDataGenerator for data augmentation and normalization\n",
    "train_datagen = ImageDataGenerator(\n",
    "    rescale=1./255,\n",
    "    validation_split=0.2,\n",
    "    rotation_range=20,\n",
    "    width_shift_range=0.2,\n",
    "    height_shift_range=0.2,\n",
    "    shear_range=0.2,\n",
    "    zoom_range=0.2,\n",
    "    horizontal_flip=True,\n",
    "    fill_mode='nearest'\n",
    ")\n",
    "\n",
    "# Create the training generator\n",
    "train_generator = train_datagen.flow_from_directory(\n",
    "    base_dir,\n",
    "    target_size=(224, 224),\n",
    "    batch_size=32,\n",
    "    class_mode='categorical',\n",
    "    subset='training'\n",
    ")\n",
    "\n",
    "# Create the validation generator\n",
    "validation_generator = train_datagen.flow_from_directory(\n",
    "    base_dir,\n",
    "    target_size=(224, 224),\n",
    "    batch_size=32,\n",
    "    class_mode='categorical',\n",
    "    subset='validation'\n",
    ")\n",
    "\n",
    "# List of models to train\n",
    "models_to_train = [VGG16, ResNet50, InceptionV3, MobileNetV2, EfficientNetB0, DenseNet121]\n",
    "\n",
    "for model_type in models_to_train:\n",
    "    # Load the pre-trained base model without the top (fully connected) layers\n",
    "    base_model = model_type(weights='imagenet', include_top=False, input_shape=(224, 224, 3))\n",
    "\n",
    "    # Add custom top layers for your specific classification task\n",
    "    x = base_model.output\n",
    "    x = GlobalAveragePooling2D()(x)\n",
    "    x = Dense(256, activation='relu')(x)\n",
    "    predictions = Dense(train_generator.num_classes, activation='softmax')(x)\n",
    "\n",
    "    # Create the final model\n",
    "    model = Model(inputs=base_model.input, outputs=predictions)\n",
    "\n",
    "    # Compile the model\n",
    "    model.compile(optimizer=Adam(), loss='categorical_crossentropy', metrics=['accuracy'])\n",
    "\n",
    "    # Train the model\n",
    "    history = model.fit(\n",
    "        train_generator,\n",
    "        steps_per_epoch=train_generator.samples // train_generator.batch_size,\n",
    "        epochs=10,  # You can adjust the number of epochs\n",
    "        validation_data=validation_generator,\n",
    "        validation_steps=validation_generator.samples // validation_generator.batch_size\n",
    "    )\n",
    "\n",
    "    # Evaluate the model on the test set\n",
    "    test_generator = train_datagen.flow_from_directory(\n",
    "        base_dir,\n",
    "        target_size=(224, 224),\n",
    "        batch_size=32,\n",
    "        class_mode='categorical',\n",
    "        subset='validation'\n",
    "    )\n",
    "\n",
    "    test_loss, test_accuracy = model.evaluate(\n",
    "        test_generator,\n",
    "        steps=test_generator.samples // test_generator.batch_size\n",
    "    )\n",
    "\n",
    "    print(f'Model: {model_type.__name__}')\n",
    "    print(f'Test Loss: {test_loss:.4f}')\n",
    "    print(f'Test Accuracy: {test_accuracy:.4f}')\n",
    "\n",
    "    # Generate predictions\n",
    "    predictions = model.predict(test_generator, steps=test_generator.samples // test_generator.batch_size)\n",
    "\n",
    "    # Get true labels\n",
    "    true_labels = test_generator.classes\n",
    "\n",
    "    # Calculate F1 score\n",
    "    f1 = f1_score(true_labels, np.argmax(predictions, axis=1), average='weighted')\n",
    "    print(f'Weighted F1 Score: {f1:.4f}')\n",
    "\n",
    "    # Create confusion matrix\n",
    "    conf_mat = confusion_matrix(true_labels, np.argmax(predictions, axis=1))\n",
    "\n",
    "    # Plot confusion matrix\n",
    "    plt.figure()\n",
    "    disp = ConfusionMatrixDisplay(conf_mat, display_labels=train_generator.class_indices.keys())\n",
    "    disp.plot(cmap=plt.cm.Blues, values_format='.4g')\n",
    "    plt.title(f'Confusion Matrix - {model_type.__name__}')\n",
    "    plt.show()\n",
    "\n",
    "    # Print classification report\n",
    "    report = classification_report(true_labels, np.argmax(predictions, axis=1), target_names=train_generator.class_indices.keys())\n",
    "    print(f\"Classification Report - {model_type.__name__}:\\n\", report)\n",
    "    print(\"\\n\" + \"=\"*50 + \"\\n\")\n"
   ]
  }
 ],
 "metadata": {
  "kernelspec": {
   "display_name": "ML",
   "language": "python",
   "name": "python3"
  },
  "language_info": {
   "codemirror_mode": {
    "name": "ipython",
    "version": 3
   },
   "file_extension": ".py",
   "mimetype": "text/x-python",
   "name": "python",
   "nbconvert_exporter": "python",
   "pygments_lexer": "ipython3",
   "version": "3.11.5"
  }
 },
 "nbformat": 4,
 "nbformat_minor": 2
}
