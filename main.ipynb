{
 "cells": [
  {
   "cell_type": "code",
   "execution_count": 20,
   "metadata": {},
   "outputs": [],
   "source": [
    "import requests\n",
    "from bs4 import BeautifulSoup\n",
    "import os\n",
    "import shutil\n",
    "import time\n",
    "import logging\n",
    "from tqdm import tqdm \n"
   ]
  },
  {
   "cell_type": "code",
   "execution_count": 65,
   "metadata": {},
   "outputs": [
    {
     "name": "stderr",
     "output_type": "stream",
     "text": [
      "  0%|          | 0/1000 [00:00<?, ?image/s]"
     ]
    },
    {
     "name": "stderr",
     "output_type": "stream",
     "text": [
      "100%|██████████| 1000/1000 [11:04<00:00,  1.50image/s]"
     ]
    },
    {
     "name": "stdout",
     "output_type": "stream",
     "text": [
      "Downloaded 1000 images to C:/Users/AlessandroLaVeglia/repo_git/Vision-Exam/immagini\\cuffie.\n"
     ]
    },
    {
     "name": "stderr",
     "output_type": "stream",
     "text": [
      "\n"
     ]
    }
   ],
   "source": [
    "# Set the query and the number of images you want to download\n",
    "query = \"smartphone\"\n",
    "num_images = 1000\n",
    "\n",
    "# Set the download directory for images\n",
    "download_directory = \"C:/Users/AlessandroLaVeglia/repo_git/Vision-Exam/immagini\"\n",
    "\n",
    "# Ensure the download directory exists; create it if it doesn't\n",
    "if not os.path.exists(download_directory):\n",
    "    os.makedirs(download_directory)\n",
    "\n",
    "# Create a folder with the name of the query\n",
    "query_folder = os.path.join(download_directory, query)\n",
    "if not os.path.exists(query_folder):\n",
    "    os.makedirs(query_folder)\n",
    "\n",
    "# Function to download and save an image\n",
    "def download_image(image_url, file_path):\n",
    "    try:\n",
    "        response = requests.get(image_url)\n",
    "        if response.status_code == 200:\n",
    "            # Check the content type to ensure it's an image\n",
    "            content_type = response.headers.get(\"content-type\")\n",
    "            if content_type.startswith(\"image\"):\n",
    "                with open(file_path, \"wb\") as file:\n",
    "                    file.write(response.content)\n",
    "    except Exception as e:\n",
    "        pass\n",
    "\n",
    "# Construct the search URL for Bing Image Search\n",
    "url = f\"https://www.bing.com/images/search?q={query}\"\n",
    "\n",
    "# Initialize variables for pagination\n",
    "start = 1\n",
    "results_per_page = 100  # Bing typically shows 100 images per page\n",
    "\n",
    "# Initialize a progress bar with the total number of images to download\n",
    "with tqdm(total=num_images, unit='image') as pbar:\n",
    "    # Download the images and save them to the specified directory\n",
    "    while len(os.listdir(query_folder)) < num_images:\n",
    "        try:\n",
    "            # Send an HTTP GET request for the current page\n",
    "            response = requests.get(url + f'&first={start}')\n",
    "            if response.status_code != 200:\n",
    "                break\n",
    "\n",
    "            # Parse the HTML content\n",
    "            soup = BeautifulSoup(response.text, \"html.parser\")\n",
    "\n",
    "            # Find and extract image URLs using the 'data-src' attribute\n",
    "            image_elements = soup.find_all(\"img\", class_=\"mimg\")\n",
    "            image_urls = [img.get(\"data-src\") for img in image_elements if img.get(\"data-src\")]\n",
    "\n",
    "            # Download images from the current page\n",
    "            for i, image_url in enumerate(image_urls):\n",
    "                if len(os.listdir(query_folder)) >= num_images:\n",
    "                    break\n",
    "                file_path = os.path.join(query_folder, f\"{query}_{start + i}.jpg\")\n",
    "                download_image(image_url, file_path)\n",
    "\n",
    "                # Update the progress bar\n",
    "                pbar.update(1)\n",
    "\n",
    "            # Increment the start value for the next page\n",
    "            start += results_per_page\n",
    "\n",
    "            # Add a delay to avoid being blocked\n",
    "            time.sleep(2)\n",
    "\n",
    "        except Exception as e:\n",
    "            break\n",
    "\n",
    "# Close the progress bar\n",
    "pbar.close()\n",
    "\n",
    "print(f\"Downloaded {len(os.listdir(query_folder))} images to {query_folder}.\")"
   ]
  },
  {
   "cell_type": "markdown",
   "metadata": {},
   "source": [
    "# Per eliminare i file nella folder immagini\n"
   ]
  },
  {
   "cell_type": "code",
   "execution_count": 56,
   "metadata": {},
   "outputs": [
    {
     "name": "stdout",
     "output_type": "stream",
     "text": [
      "Folder 'C:/Users/AlessandroLaVeglia/repo_git/Vision-Exam/immagini' has been cleared.\n"
     ]
    }
   ],
   "source": [
    "# folder_to_clear = \"C:/Users/AlessandroLaVeglia/repo_git/Vision-Exam/immagini\"\n",
    "# # Ensure the folder exists\n",
    "# if os.path.exists(folder_to_clear):\n",
    "#     # List all files and subfolders in the folder\n",
    "#     folder_contents = os.listdir(folder_to_clear)\n",
    "\n",
    "#     # Loop through each item in the folder\n",
    "#     for item in folder_contents:\n",
    "#         item_path = os.path.join(folder_to_clear, item)\n",
    "\n",
    "#         # Check if the item is a file and delete it\n",
    "#         if os.path.isfile(item_path):\n",
    "#             os.remove(item_path)\n",
    "#         # If it's a subfolder, use shutil.rmtree to delete it and its contents\n",
    "#         elif os.path.isdir(item_path):\n",
    "#             shutil.rmtree(item_path)\n",
    "    \n",
    "#     print(f\"Folder '{folder_to_clear}' has been cleared.\")\n",
    "# else:\n",
    "#     print(f\"Folder '{folder_to_clear}' does not exist.\")"
   ]
  }
 ],
 "metadata": {
  "kernelspec": {
   "display_name": "Vision",
   "language": "python",
   "name": "python3"
  },
  "language_info": {
   "codemirror_mode": {
    "name": "ipython",
    "version": 3
   },
   "file_extension": ".py",
   "mimetype": "text/x-python",
   "name": "python",
   "nbconvert_exporter": "python",
   "pygments_lexer": "ipython3",
   "version": "3.11.0"
  }
 },
 "nbformat": 4,
 "nbformat_minor": 2
}
