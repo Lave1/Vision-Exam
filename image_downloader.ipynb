{
 "cells": [
  {
   "cell_type": "code",
   "execution_count": 2,
   "metadata": {},
   "outputs": [],
   "source": [
    "import requests\n",
    "from bs4 import BeautifulSoup\n",
    "import os\n",
    "import shutil\n",
    "import time\n",
    "import logging\n",
    "from tqdm import tqdm \n"
   ]
  },
  {
   "cell_type": "code",
   "execution_count": 4,
   "metadata": {},
   "outputs": [
    {
     "name": "stdout",
     "output_type": "stream",
     "text": [
      "this are the folder names\n",
      " ['borraccia', 'bottiglia di plastica', 'bottiglia di vetro', 'bottiglietta di plastica', 'cuffie', 'headset', 'keyboard', 'mouse', 'smartphone']\n",
      "this are the folder names\n",
      " []\n",
      "non trovate le stesse cartelle\n"
     ]
    }
   ],
   "source": [
    "import os\n",
    "\n",
    "# Specifica il percorso della directory\n",
    "directory_path = 'C:/Users/Marco/Desktop/Scuola ITS/robe Git/Vision-Exam/immagini'\n",
    "\n",
    "directory_path2 = 'C:/Users/Marco/Desktop/Scuola ITS/robe Git/Vision-Exam/immagini_di_prova'\n",
    "\n",
    "# Utilizza os.listdir per ottenere una lista di tutti gli elementi nella directory\n",
    "# e filtra solo quelli che sono directory\n",
    "folder_names = [f for f in os.listdir(directory_path) if os.path.isdir(os.path.join(directory_path, f))]\n",
    "\n",
    "folder_names2 = [f for f in os.listdir(directory_path2) if os.path.isdir(os.path.join(directory_path, f))]\n",
    "\n",
    "print(\"this are the folder names\\n\", folder_names)\n",
    "print(\"this are the folder names\\n\", folder_names2)\n",
    "\n",
    "if len(folder_names) == len(folder_names2):\n",
    "    print(\"trovate le stesse cartelle con nomi\\n\", folder_names)\n",
    "else:\n",
    "    print(\"non trovate le stesse cartelle\")"
   ]
  },
  {
   "cell_type": "code",
   "execution_count": 9,
   "metadata": {},
   "outputs": [
    {
     "name": "stderr",
     "output_type": "stream",
     "text": [
      "100%|██████████| 1000/1000 [14:11<00:00,  1.17image/s]"
     ]
    },
    {
     "name": "stdout",
     "output_type": "stream",
     "text": [
      "Downloaded 1000 images for 'headset' to ./immagini/headset.\n"
     ]
    },
    {
     "name": "stderr",
     "output_type": "stream",
     "text": [
      "\n"
     ]
    }
   ],
   "source": [
    "\n",
    "# Set the queries and the number of images you want to download for each query\n",
    "queries = [\"headset\"]\n",
    "num_images = 1000\n",
    "\n",
    "# Set the download directory for images\n",
    "download_directory = \"./immagini/headset\"\n",
    "\n",
    "# Ensure the download directory exists; create it if it doesn't\n",
    "if not os.path.exists(download_directory):\n",
    "    os.makedirs(download_directory)\n",
    "\n",
    "# Function to download and save an image\n",
    "def download_image(image_url, file_path):\n",
    "    try:\n",
    "        response = requests.get(image_url)\n",
    "        if response.status_code == 200:\n",
    "            # Check the content type to ensure it's an image\n",
    "            content_type = response.headers.get(\"content-type\")\n",
    "            if content_type.startswith(\"image\"):\n",
    "                with open(file_path, \"wb\") as file:\n",
    "                    file.write(response.content)\n",
    "    except Exception as e:\n",
    "        pass\n",
    "\n",
    "# Loop through each query\n",
    "for query in queries:\n",
    "    # Construct the search URL for Bing Image Search\n",
    "    url = f\"https://www.bing.com/images/search?q={query}\"\n",
    "\n",
    "    # Initialize variables for pagination\n",
    "    start = 1\n",
    "    results_per_page = 100  # Bing typically shows 100 images per page\n",
    "\n",
    "    # Initialize a progress bar with the total number of images to download\n",
    "    with tqdm(total=num_images, unit='image') as pbar:\n",
    "        # Download the images and save them to the specified directory\n",
    "        while len(os.listdir(download_directory)) < num_images:\n",
    "            try:\n",
    "                # Send an HTTP GET request for the current page\n",
    "                response = requests.get(url + f'&first={start}')\n",
    "                if response.status_code != 200:\n",
    "                    break\n",
    "\n",
    "                # Parse the HTML content\n",
    "                soup = BeautifulSoup(response.text, \"html.parser\")\n",
    "\n",
    "                # Find and extract image URLs using the 'data-src' attribute\n",
    "                image_elements = soup.find_all(\"img\", class_=\"mimg\")\n",
    "                image_urls = [img.get(\"data-src\") for img in image_elements if img.get(\"data-src\")]\n",
    "\n",
    "                # Download images from the current page\n",
    "                for i, image_url in enumerate(image_urls):\n",
    "                    if len(os.listdir(download_directory)) >= num_images:\n",
    "                        break\n",
    "                    file_path = os.path.join(download_directory, f\"{query}_{start + i}.jpg\")\n",
    "                    download_image(image_url, file_path)\n",
    "\n",
    "                    # Update the progress bar\n",
    "                    pbar.update(1)\n",
    "\n",
    "                # Increment the start value for the next page\n",
    "                start += results_per_page\n",
    "\n",
    "                # Add a delay to avoid being blocked\n",
    "                time.sleep(2)\n",
    "\n",
    "            except Exception as e:\n",
    "                break\n",
    "\n",
    "    # Close the progress bar for the current query\n",
    "    pbar.close()\n",
    "\n",
    "    print(f\"Downloaded {len(os.listdir(download_directory))} images for '{query}' to {download_directory}.\")\n"
   ]
  },
  {
   "cell_type": "markdown",
   "metadata": {},
   "source": [
    "# Per eliminare i file nella folder immagini\n"
   ]
  },
  {
   "cell_type": "code",
   "execution_count": null,
   "metadata": {},
   "outputs": [],
   "source": []
  },
  {
   "cell_type": "code",
   "execution_count": 8,
   "metadata": {},
   "outputs": [
    {
     "name": "stdout",
     "output_type": "stream",
     "text": [
      "Folder 'C:/Users/Marco/Desktop/Scuola ITS/robe Git/Vision-Exam/immagini/headset' has been cleared.\n"
     ]
    }
   ],
   "source": [
    "# folder_to_clear = \"./immagini\"\n",
    "# # Ensure the folder exists\n",
    "# if os.path.exists(folder_to_clear):\n",
    "#     # List all files and subfolders in the folder\n",
    "#     folder_contents = os.listdir(folder_to_clear)\n",
    "\n",
    "#     # Loop through each item in the folder\n",
    "#     for item in folder_contents:\n",
    "#         item_path = os.path.join(folder_to_clear, item)\n",
    "\n",
    "#         # Check if the item is a file and delete it\n",
    "#         if os.path.isfile(item_path):\n",
    "#             os.remove(item_path)\n",
    "        \n",
    "#         elif os.path.isdir(item_path):\n",
    "#             shutil.rmtree(item_path)\n",
    "    \n",
    "#     print(f\"Folder '{folder_to_clear}' has been cleared.\")\n",
    "# else:\n",
    "#     print(f\"Folder '{folder_to_clear}' does not exist.\")"
   ]
  }
 ],
 "metadata": {
  "kernelspec": {
   "display_name": "Vision",
   "language": "python",
   "name": "python3"
  },
  "language_info": {
   "codemirror_mode": {
    "name": "ipython",
    "version": 3
   },
   "file_extension": ".py",
   "mimetype": "text/x-python",
   "name": "python",
   "nbconvert_exporter": "python",
   "pygments_lexer": "ipython3",
   "version": "3.11.5"
  }
 },
 "nbformat": 4,
 "nbformat_minor": 2
}
